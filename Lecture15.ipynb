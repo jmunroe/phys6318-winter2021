{
 "cells": [
  {
   "cell_type": "markdown",
   "id": "protective-shock",
   "metadata": {},
   "source": [
    "# Lecture 15"
   ]
  },
  {
   "cell_type": "code",
   "execution_count": 2,
   "id": "derived-frequency",
   "metadata": {},
   "outputs": [],
   "source": [
    "%matplotlib inline\n",
    "%config InlineBackend.figure_format='retina'\n",
    "from matplotlib import rcParams\n",
    "rcParams['animation.html'] = 'jshtml'\n",
    "from IPython.display import HTML\n",
    "from matplotlib.animation import FuncAnimation\n",
    "import matplotlib.pyplot as plt\n",
    "import numpy as np\n",
    "import xarray as xr\n",
    "import netCDF4\n",
    "import time\n",
    "import os\n",
    "import glob"
   ]
  },
  {
   "cell_type": "markdown",
   "id": "revolutionary-institution",
   "metadata": {},
   "source": [
    "## AOM 3.23 Estuaries\n",
    "\n"
   ]
  },
  {
   "cell_type": "markdown",
   "id": "human-comfort",
   "metadata": {},
   "source": [
    "#### Estuaries\n",
    "- semi-enclosed, narrow bodies of water along the coast\n",
    "- salinity is different from adjacent ocean"
   ]
  },
  {
   "cell_type": "markdown",
   "id": "twelve-honey",
   "metadata": {},
   "source": [
    "![estuary](https://study.com/cimages/videopreview/estuary-definition-facts-characteristics-examples_v1_copy_123801.jpg)"
   ]
  },
  {
   "cell_type": "markdown",
   "id": "recognized-desperate",
   "metadata": {},
   "source": [
    "![](https://lh4.googleusercontent.com/guNqS_r6lAAdaRAlcWlW2ey_f9QepfGrjWfzxVYoY-3ocjz6td3MOjvFcYWJES2xlJViN5_t05Ci99E-vO74m2D6UcFik4OAKPXGuOklk5nCAXEynYMCvr5E-Yv9yX0OgCcAuoKj)"
   ]
  },
  {
   "cell_type": "markdown",
   "id": "sticky-agenda",
   "metadata": {},
   "source": [
    "*Positive estuary*\n",
    "- salinity of estuary less that adjacent ocean\n",
    "- humid climates, precipitation exceeds evaporation\n",
    "- surplus of freshwater input from rivers\n",
    "- outflow of light, low-salinty water flows towards ocean in upper layer\n",
    "- inflow of seawater in the lower layer\n",
    "\n",
    "![estuary](https://rwu.pressbooks.pub/app/uploads/sites/7/2019/05/partially_mixed_estuary_sm.jpg) \n",
    "\n",
    "*Negative (inverse) estuary*\n",
    "- salinity of estuary greater that adjacent ocean\n",
    "- arid climates, evaporation exceeds precipitation\n",
    "- outflow high salinity bottom waters\n",
    "- inflow of ambient seawater in the surface layer\n",
    "\n",
    "\n",
    "![](https://www.researchgate.net/profile/Joachim_Ribbe/publication/261324546/figure/fig1/AS:296885131726854@1447794339504/Simple-schematic-of-an-inverse-estuarine-circulation-adopted-from-Ribbe-2006-Inflow-of_W640.jpg)"
   ]
  },
  {
   "cell_type": "markdown",
   "id": "packed-brooks",
   "metadata": {},
   "source": [
    "### 3.23.2 Classification of Estuaries According to Origin\n",
    "\n",
    "\n",
    "<span>\n",
    "    <img width=150px src=\"https://geo.libretexts.org/@api/deki/files/193/Estuary-drawings.jpg?revision=1/\">\n",
    "    <img width=450px src=\"https://geo.libretexts.org/@api/deki/files/194/estuarytypes.jpg?revision=1\">\n",
    "</span>"
   ]
  },
  {
   "cell_type": "markdown",
   "id": "compatible-individual",
   "metadata": {},
   "source": [
    "Examples: https://oceanservice.noaa.gov/education/tutorial_estuaries/est04_geology.html"
   ]
  },
  {
   "cell_type": "markdown",
   "id": "latin-rendering",
   "metadata": {},
   "source": [
    "### 3.23.3 The Dynamics of Positive Estuaries\n",
    "\n",
    "Continental runoff (e.g. rivers) drive flows in positive estuaries. Runoff leades to barotropic pressure gradient directed toward the sea.\n",
    "\n",
    "Density interface between layers leads to baroclinic pressure gradient supporting an inflow of ambient sea water.\n",
    "\n",
    "![](https://journals.ametsoc.org/view/journals/phoc/38/2/i1520-0485-38-2-418-f01.gif)\n",
    "\n",
    "Degree of mixing due to oscilliotry tidal flow modifies the strength of the inflow.\n",
    "\n",
    "![](https://www.researchgate.net/profile/Nirmal-Ji/publication/263003446/figure/fig1/AS:613945161285690@1523387341881/Different-mixing-types-at-any-typical-estuarine-region_W640.jpg)"
   ]
  },
  {
   "cell_type": "markdown",
   "id": "interracial-murray",
   "metadata": {},
   "source": [
    "### 3.23.4 Brief Overview of Tides"
   ]
  },
  {
   "cell_type": "markdown",
   "id": "fantastic-vulnerability",
   "metadata": {},
   "source": [
    "Semi-diurnal (12 hrs) and diurnal (24 hrs) periods.\n",
    "\n",
    "- High tide\n",
    "- Low tide\n",
    "- Tidal range\n",
    "- Slack water"
   ]
  },
  {
   "cell_type": "markdown",
   "id": "precious-chamber",
   "metadata": {},
   "source": [
    "![](https://fishingbooker.com/blog/media/noaa-how-tide-works.gif)"
   ]
  },
  {
   "cell_type": "markdown",
   "id": "illegal-report",
   "metadata": {},
   "source": [
    "![](https://fishingbooker.com/blog/media/best-tides-for-fishing.png)"
   ]
  },
  {
   "cell_type": "markdown",
   "id": "attached-investing",
   "metadata": {},
   "source": [
    "Recall *Tidal-generating force* involves gravitation attractive force between Earth/Moon and Earth/Sun systems and the centrifugal force.\n",
    "\n",
    "![](https://www.oc.nps.edu/nom/day1/tide_force_diagram.gif)"
   ]
  },
  {
   "cell_type": "markdown",
   "id": "individual-residence",
   "metadata": {},
   "source": [
    "Equilibrium theory of the tides\n",
    "\n",
    "![](https://tidesandcurrents.noaa.gov/images/restfig3.gif)"
   ]
  },
  {
   "cell_type": "markdown",
   "id": "involved-hurricane",
   "metadata": {},
   "source": [
    "### 3.23.5 Dynamic Theory of Tides"
   ]
  },
  {
   "cell_type": "markdown",
   "id": "rental-whale",
   "metadata": {},
   "source": [
    "M2 tidal chart showing *co-tidal phase lines* and *co-tidal range lines* rotating around *amphidromic points*. Tides propagate as Kelvin waves following the coast.\n",
    "\n",
    "Due to the dispersion relation for these long surface gravity waves and the existence of coastlines, tidal waves do not keep up with the astronomical tidal forcing. Rather, the tides forms a standing-wave response according to the geometry of the oceanic basins."
   ]
  },
  {
   "cell_type": "markdown",
   "id": "combined-albert",
   "metadata": {},
   "source": [
    "![](https://upload.wikimedia.org/wikipedia/commons/5/5e/M2_tidal_constituent.jpg)"
   ]
  },
  {
   "cell_type": "markdown",
   "id": "fossil-firmware",
   "metadata": {},
   "source": [
    "A common way to illustrate how tidal currents vary in space, either horizontally or with depth, is to use tidal ellipses. Over the course of one period, for example 12.4 hours for the M2 constituent, the tip of the current vector will trace out a path along the ellipse.\n",
    "\n",
    "![](https://www.oc.nps.edu/nom/day1/ellipsefig.gif)\n",
    "\n",
    "\n",
    "The figure below shows the M2 surface current tidal ellipses for Monterey Bay. The red lines indicate the direction at which the current is pointing at a given time. The blue ellipses indicate a counterclockwise rotation; the green ellipses indicate a clockwise rotation.\n",
    "\n",
    "![](https://www.oc.nps.edu/nom/day1/codar1999_M2.gif)"
   ]
  },
  {
   "cell_type": "markdown",
   "id": "incomplete-print",
   "metadata": {},
   "source": [
    "### 3.23.6 Tides in Estuaries"
   ]
  },
  {
   "cell_type": "markdown",
   "id": "confirmed-asbestos",
   "metadata": {},
   "source": [
    "*Tidal co-oscillations* in the estuary follow from the tidal forcing of the adjacent\n",
    "ocean.\n",
    "\n",
    "#### Example: Bay of Fundy\n",
    "\n",
    "![](https://www.researchgate.net/profile/Andrew-Cornett/publication/259623467/figure/fig1/AS:297112433643520@1447848532597/Map-of-the-Gulf-of-Maine-and-Bay-of-Fundy-showing-Spring-tidal-range_W640.jpg)\n",
    "\n",
    "![](https://lh6.ggpht.com/-PBJ6cE_i5Nc/T2WyKwTRr4I/AAAAAAAAVdU/GEZNXyatAr8/fundy-tides-comparison%25255B4%25255D.jpg?imgmax=800)"
   ]
  },
  {
   "cell_type": "markdown",
   "id": "convenient-realtor",
   "metadata": {},
   "source": [
    "### 3.23.7 Tidal Patterns"
   ]
  },
  {
   "cell_type": "markdown",
   "id": "exterior-arlington",
   "metadata": {},
   "source": [
    "Tidal constituents\n",
    "\n",
    "![](https://www.oc.nps.edu/nom/day1/tidal_datums_fig8.gif)\n",
    "\n",
    "![](https://media.cheggcdn.com/study/6ca/6ca533b5-7633-4871-b781-872aea1d35ec/516453-11-8ILR1.png)\n",
    "\n",
    "![](https://media.cheggcdn.com/study/020/0209dd53-db9d-437c-a9b4-6540ccf331ea/516453-11-8ILR2.png)"
   ]
  },
  {
   "cell_type": "markdown",
   "id": "executive-italic",
   "metadata": {},
   "source": [
    "### 3.23.8 Classification of Estuaries According to Stratification and Circulation\n",
    "\n",
    "The stratification within an estuary depends on the amount of runoff and the amount of mixing due to to oscillating tidal flows.\n",
    "\n",
    "![](https://www.researchgate.net/profile/Duncan-Fitzgerald/publication/300861939/figure/fig2/AS:370359514746886@1465311997950/Classification-of-estuaries-based-on-the-vertical-structure-of-salinity-Different-types_W640.jpg)"
   ]
  },
  {
   "cell_type": "markdown",
   "id": "tested-train",
   "metadata": {},
   "source": [
    "Considering the dominant tidal constituent for the estuary, \n",
    "- amount of freshwater received over a tidal cycle (freshwater volume), $R$\n",
    "- amount of water that the tidal flow moves into estuary over a tidal cycle, $V$\n",
    "\n",
    "Classification\n",
    "- *Salt-wedge estuaries*, $R/V > 1$\n",
    "- *Highly stratified estuaries*, $R/V > 0.1$\n",
    "- *Slightly stratified estuaries*, $R/V > 0.01$\n",
    "- *Vertically mixed estuaries*, $R/V < 0.001$"
   ]
  },
  {
   "cell_type": "markdown",
   "id": "dress-brush",
   "metadata": {},
   "source": [
    "### 3.23.9 Transport Timescales in Estuaries"
   ]
  },
  {
   "cell_type": "markdown",
   "id": "loaded-pressure",
   "metadata": {},
   "source": [
    "Estuaries are often the location of high human population density. Consequently, they are often subject to pollution, discharge of sewage, wastewater, and oil spills.  Also, parts of an estuary that do not get replace with new waters can be end of being depleted in oxygen levels (become anoxic). An important modelling task is understanding how these important ecosystems respond over various time scales.\n",
    "\n",
    "- *Residence time*, time required for a virtual water parcel to escape a given area.  \n",
    "  - Can be explored using Lagrangian tracers.\n",
    "  - Maps of residence time useful for management of oil spils\n",
    "  - Can be used to identify \"shadow\" regions of little flow\n",
    "- *Flusing time*, time required for a the water volume of given region to be (almost) replaced by ambient water.\n",
    "  - Can be explored with Eulerian tracers. \n",
    "  - Flushing time estimated as the time required for concentration of a tracer to drop below a critical threshold (such as $e^{-\\pi} \\approx 0.04$, 96% replacement of water)\n",
    "  - Can be use to illustrate regions that are relatively stagnant\n",
    "- *Age*, time elapsed since a virtual water parcel or water volume has entered the system.\n",
    "  - with Lagrangian tracer, similar to residence time showing age as function of both location and tim\n",
    "  - with Eulerian tracer, water age can be calculated from modified advection-diffusion equation\n",
    "  $$ \\frac{\\partial A}{\\partial t}  + \\mbox{Adv}(A) = \\mbox{Diff}(A) + 1$$\n",
    "  where $A$ is the grid-averaged age the constant 1 represents ageing.\n",
    "  - in an estuary, entrainment of younger ambient seawater leads to an equilibrium age distribuion\n",
    " \n",
    "  "
   ]
  },
  {
   "cell_type": "markdown",
   "id": "indian-fantasy",
   "metadata": {},
   "source": [
    "## AOM 3.24 Exercise 14: Positive Estuaries"
   ]
  },
  {
   "cell_type": "markdown",
   "id": "excited-threshold",
   "metadata": {},
   "source": [
    "### 3.24.1 Aim\n",
    "\n",
    "The aim of this exercise is to simulate the circulation and density structure of a\n",
    "positive estuary subject to varied magnitudes of freshwater inflow and exposed to\n",
    "tidal flows of a given tidal range. To make the simulation more realistic, variable\n",
    "channel width is implemented in the vertical ocean-slice model."
   ]
  },
  {
   "cell_type": "markdown",
   "id": "postal-trailer",
   "metadata": {},
   "source": [
    "### 3.24.2 Task Description\n",
    "\n",
    "See text.\n",
    "\n",
    "### 3.24.3 Implementation of Variable Channel Width\n",
    "\n",
    "See text.\n",
    "\n",
    "### 3.24.4 Advanced Turbulence Closure\n",
    "\n",
    "See text."
   ]
  },
  {
   "cell_type": "markdown",
   "id": "central-ability",
   "metadata": {},
   "source": [
    "### 3.24.5 Results"
   ]
  },
  {
   "cell_type": "markdown",
   "id": "configured-spider",
   "metadata": {},
   "source": [
    "TBD"
   ]
  },
  {
   "cell_type": "markdown",
   "id": "arbitrary-collection",
   "metadata": {},
   "source": [
    "> **Problem 22**: Run Exercise 14 on your own and complete 3.25.6 Additional Exercise for the Reader:\n",
    ">\n",
    ">The reader is encouraged to add some bathymetric variations to the sea floor\n",
    "(such as a sill near the estuary’s mouth) and to explore changes in both the\n",
    "dynamics and water age distributions. The reader should also try to calculate flushing times based on an e-folding timescale and to compare the results with the\n",
    "predicted age distribution."
   ]
  },
  {
   "cell_type": "markdown",
   "id": "optimum-rescue",
   "metadata": {},
   "source": [
    "## AOM 3.25 Exercise 15: Inverse Estuaries\n",
    "\n",
    "Skip."
   ]
  },
  {
   "cell_type": "code",
   "execution_count": null,
   "id": "valuable-validity",
   "metadata": {},
   "outputs": [],
   "source": []
  }
 ],
 "metadata": {
  "kernelspec": {
   "display_name": "Python 3",
   "language": "python",
   "name": "python3"
  },
  "language_info": {
   "codemirror_mode": {
    "name": "ipython",
    "version": 3
   },
   "file_extension": ".py",
   "mimetype": "text/x-python",
   "name": "python",
   "nbconvert_exporter": "python",
   "pygments_lexer": "ipython3",
   "version": "3.8.6"
  }
 },
 "nbformat": 4,
 "nbformat_minor": 5
}
