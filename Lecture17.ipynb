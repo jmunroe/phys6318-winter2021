{
 "cells": [
  {
   "cell_type": "markdown",
   "id": "experienced-calvin",
   "metadata": {},
   "source": [
    "# Lecture 17"
   ]
  },
  {
   "cell_type": "code",
   "execution_count": 1,
   "id": "apart-bowling",
   "metadata": {},
   "outputs": [],
   "source": [
    "%matplotlib inline\n",
    "%config InlineBackend.figure_format='retina'\n",
    "from matplotlib import rcParams\n",
    "rcParams['animation.html'] = 'jshtml'\n",
    "from IPython.display import HTML\n",
    "from matplotlib.animation import FuncAnimation\n",
    "import matplotlib.pyplot as plt\n",
    "import numpy as np\n",
    "import xarray as xr\n",
    "import netCDF4\n",
    "import time\n",
    "import os\n",
    "import glob"
   ]
  },
  {
   "cell_type": "markdown",
   "id": "retired-algorithm",
   "metadata": {},
   "source": [
    "## AOM 4.4 Coastal upwelling"
   ]
  },
  {
   "cell_type": "markdown",
   "id": "outdoor-witch",
   "metadata": {},
   "source": [
    "### 4.4.1 Background"
   ]
  },
  {
   "cell_type": "markdown",
   "id": "studied-consolidation",
   "metadata": {},
   "source": [
    "*Coastal upwelling*\n",
    "- colder and nutrient-enriched water lifted toward surface\n",
    "- increase light intensity promotes phytoplankton production\n",
    "  - key trigger in marine food chain\n",
    "  \n",
    "![](https://scienceprimer.com/figures/coastalUp.png)"
   ]
  },
  {
   "cell_type": "markdown",
   "id": "dying-spectacular",
   "metadata": {},
   "source": [
    "#### 4.4.2 How Does It Work?"
   ]
  },
  {
   "cell_type": "markdown",
   "id": "liberal-strain",
   "metadata": {},
   "source": [
    "Ekman upwelling for a constant density ocean:\n",
    "- Winds blow along coast\n",
    "- Ekman drift direct offshore\n",
    "- Offshore flow lowers coastal sea level\n",
    "- Produces geostrophic jet in the same direction as the wind\n",
    "- Friction of this jet with the seafloor creates onshore flow in the bottom Ekman layer\n",
    "- Upward movement occurs along the coast\n",
    "\n",
    "\n",
    "![](https://media.cheggcdn.com/study/772/772ddf2c-4df2-4f00-a36d-26c5477e432f/image.png)\n",
    "\n",
    "Ekman upwelling for a stratified ocean:\n",
    "- Density surfaces near coast tilt upward\n",
    "- Tilting reduces lateral pressure gradients in the bottom layer\n",
    "- Water is deeper offshore than near the coast, but it is not as dense\n",
    "  - at depth, pressure is the same\n",
    "- Partial compensation of imposed surface pressure field (*baroclinic compensation*, *buoyancy shutdown*) weakens geostrophic flow near the bottom\n",
    "  - Weaker onshort flow in the bottom Ekman layer."
   ]
  },
  {
   "cell_type": "markdown",
   "id": "diverse-cache",
   "metadata": {},
   "source": [
    "### 4.4.3 Partial and Full Upwelling"
   ]
  },
  {
   "cell_type": "markdown",
   "id": "golden-charge",
   "metadata": {},
   "source": [
    "Consider a two layer ocean (Fig 4.11)\n",
    "- Full upwelling: density interface reaches the surface\n",
    "- Partial upwelling: density interface raised, but does not reach the surface\n",
    "\n",
    "In a *reduced-gravity* ocean, we assume that the density interface adjusts to sea-level gradients such that there is no horizontal pressure gradient (and so no flow) in the bottom layer.  \n",
    "\n",
    "If $\\eta_1$ and $\\eta_2$ are the displacements of the surface and interface respectively, then we can write down the pressure deep within the lower layer:\n",
    "\n",
    "$$P = \\rho_1 g h_1 + \\rho_2 g h_2 = \\rho_1 g \\eta_1(t) + \\rho_1 g (h_1 - \\eta_2(t)) + \\rho_2 g ( h_2 + \\eta_2(t)  = constant$$\n",
    "\n",
    "Solving, this gives a relationship between the sea-level displacementa and the interface displacement:\n",
    "\n",
    "$$\\eta_1 = - \\frac{\\rho_2 - \\rho_1}{\\rho_1 }\\eta_2$$\n",
    "\n",
    "This can be used in observations to estimate the sea level (which drives surface geostrophic flow) from the observed slope of the pycnocline.\n",
    "\n",
    "Alternatively, if the thickness of the upper layer, $h$ is given by\n",
    "\n",
    "$$ h = h_1 + \\eta_1 - \\eta_2$$\n",
    "\n",
    "and we assume $|\\eta_2| \\gg |\\eta_1| \\implies h \\approx h_1 - \\eta_2$ then the horizontal pressure gradient term becomes\n",
    "\n",
    "$$\n",
    "\\begin{align}\n",
    "-g\\frac{ \\partial \\eta_1 } {\\partial x} &=  g \\frac{\\rho_2 - \\rho_1}{\\rho_1}\\frac{ \\partial \\eta_1 } {\\partial x} \\\\\n",
    "&= g \\frac{\\rho_2 - \\rho_1}{\\rho_1}\\frac{ \\partial h }{\\partial x} \\\\\n",
    "&= g' \\frac{ \\partial h }{\\partial x}\\\\\n",
    "\\end{align}$$\n",
    "\n",
    "This formulation for a two-layer, reduced gravity ocean allows us to write the equations of motion as\n",
    "\n",
    "$$\\begin{align}\n",
    "\\frac{\\partial u}{\\partial t} + u \\frac{\\partial u}{\\partial x} - fv &= -g ' \\frac{\\partial h}{\\partial x} \\\\\n",
    "\\frac{\\partial v}{\\partial t} + u \\frac{\\partial v}{\\partial x} + fu &= \\frac{\\tau}{\\rho_0 h} \\\\\n",
    "\\frac{\\partial h}{\\partial t} + \\frac{\\partial}{\\partial x}(hu) &= 0\n",
    "\\end{align}$$\n",
    "\n",
    "Here we assume there is along-shore windstress $\\tau$.  (See 14-2 of Cushman-Roisin (1994) for details).\n",
    "\n",
    "An important note about this reduced-gravity model is the there is no motion in the bottom layer.\n",
    "\n"
   ]
  },
  {
   "cell_type": "markdown",
   "id": "annoying-bearing",
   "metadata": {},
   "source": [
    "There is no general, analytical solution to the two-layer, reduced gravity equations.  Cushmain-Roisin (1994) solves a linearized version of these equations for an oscillating wind stress of the form $\\tau = \\tau_0 \\sin(\\omega t)$.\n",
    "\n",
    "Instead, we'll consider the case that a strong wind has blown for a sufficiently long time to raise the density interface to the surface and form a front. After the front is formed, the wind ceases.\n",
    "\n",
    "This is non-linear problem whose solution is detailed in 14-3 of Cushman-Roisin (1994).  In particular, we can rewrite the meriodional momentum equation as\n",
    "\n",
    "$$\\frac{d}{dt}(v + f x) = \\frac{\\tau}{\\rho_0 h} $$\n",
    "\n",
    "where $d/dt = \\partial/\\partial t + u \\partial / \\partial x$ is the time derivatve following a fluid parcel in the offshore direction.  Integrating over time we get\n",
    "\n",
    "$$(v + f x )_{\\mbox{at end of event}} - (v + f x)_{\\mbox{initially}} = I $$.\n",
    "\n",
    "We have introduced a \"wind impulse\", $I$\n",
    "\n",
    "$$ I = \\frac{1}{\\rho_0 h_1} \\int_{\\mbox{event}} \\tau dt = \\frac{<\\tau>}{\\rho_0 h_1} t^*$$\n",
    "\n",
    "where $t^*$ is the duration of the wind event. \n"
   ]
  },
  {
   "cell_type": "markdown",
   "id": "divided-reporter",
   "metadata": {},
   "source": [
    "#### Potential voriticity\n",
    "\n",
    "If the wind is horizontally uniform while it blows, no voriticity is imparted to fluid. So we have that potential voriticity is conserved during the wind event and the following geostrophic adjustment:\n",
    "\n",
    "$$\\frac{f + \\frac{\\partial v}{\\partial x} } h = \\frac{f}{h_1}$$\n",
    "\n",
    "#### Momentum equations\n",
    "\n",
    "Once steady-state as been achieved, the continuity equation shows us that $u=0$. The zonal momentum equation is then left with\n",
    "\n",
    "$$ -f v = -g ' \\frac{\\partial h}{\\partial x} $$\n",
    "\n",
    "#### Solve for $h$ and $v$\n",
    "\n",
    "These form a system of two coupled ordinary differential equations which have the solution\n",
    "\n",
    "$$\\begin{align}\n",
    "h &= h_1 - A e^{-x/R} \\\\\n",
    "v &= A \\sqrt{\\frac{g'}{h_1}} e^{-x/R}\n",
    "\\end{align}$$\n",
    "\n",
    "where $R = \\sqrt(g'h_1) / f$ is the Rossby radius of deformation and $A$ is a constant of integration.\n",
    "\n",
    "\n",
    "Assuming full upwelling has occured, the we can consider a water parcel starting initial at the coast $x=0$ and ending up at the front $x = a$.  At the edge of the front, the upper layer depth vanishes $h(x=a) = 0$ and so we can solve for the constant $A$:\n",
    "\n",
    "$$ A = h_1 e^{a/R}$$\n",
    "\n",
    "The alongshore velocity at the front is then\n",
    "\n",
    "$$ v(x=a) = \\sqrt{g'h_1}$$\n",
    "\n",
    "Recall we determined that\n",
    "\n",
    "$$(v + f x )_{\\mbox{at end of event}} - (v + f x)_{\\mbox{initially}} = I $$\n",
    "\n",
    "for our fluid parcel. This means\n",
    "\n",
    "$$( \\sqrt{g'h_1} + f a) - (0 + f 0) = I$$\n",
    "\n",
    "or\n",
    "\n",
    "$$ a = \\frac{I}{f} - \\sqrt{\\frac{g'h_1}{f}} = \\frac{I}{f} - R$$.\n",
    "\n",
    "This is equation AOM (4.18) given in our textbook.  \n",
    "\n",
    "\n",
    "#### Physical interpretation\n",
    "\n",
    "The offshore Ekman velocity $u_{Ek}$ is the velocity necessary for the Coriolis force to balance the along shore wind stress:\n",
    "\n",
    "$$ u_{Ek} = \\frac{\\tau}{\\rho_0 f h} $$\n",
    "\n",
    "Integrated over time, this yields a net offshore displacement proprotional to the wind impulse\n",
    "\n",
    "$$ x_{Ek} = \\frac{I}{f} $$\n",
    "\n",
    "If the surface moved as a solid slab, this is where the upper layer would be now be location.  But, there also is a geostrophic adjustment process that spreads out the the front over a distance equal to the deformation radius given the expression\n",
    "\n",
    "$$ a = \\frac{I}{f} - R$$\n",
    "\n",
    "![](https://i.imgur.com/0DJkanI.png)"
   ]
  },
  {
   "cell_type": "markdown",
   "id": "inclusive-collectible",
   "metadata": {},
   "source": [
    "## AOM 4.5 Exercise 18: Coastal Upwelling and Downwelling\n",
    "\n",
    "### 4.5.1 Aim\n",
    "\n",
    "The aim of this study is to explore the wind-driven coastal upwelling process in a\n",
    "stratified water column with the 2.5d vertical-ocean slice model."
   ]
  },
  {
   "cell_type": "markdown",
   "id": "common-basis",
   "metadata": {},
   "source": [
    "### 4.5.2 Task Description\n",
    "\n",
    "Model domain\n",
    "- 50 km in length, Δx = 500 m\n",
    "- Max depth of 100 m, Δz = 5 m (Fig. 4.12)\n",
    "- Water depth decreases from 100 to 50 m\n",
    "- Shallow water is bounded by a coast\n",
    "\n",
    "![](https://i.imgur.com/QTWrPii.png)\n",
    "\n",
    "Offshore boundary condition\n",
    "- open boundary condition zero-gradient conditions\n",
    "- sea-level kept fixed to avoid model domain emptying due to offshore Ekman transport.\n",
    "\n",
    "Stratification \n",
    "- 25 m thick surface mixed layer of 1027 kg/m$^3$\n",
    "- pycnocline where density changes by 1 kg/m$^3$\n",
    "- stably statified lower layer with $N = 6.2 \\times 10^{-3}$ s$^{-1}$.\n",
    "\n",
    "Forcing\n",
    "- Coriolis parameter set to $f = -1 \\times 10^{-4}$ s$^{-1}$ (Southern Hemisphere -- net wind-driven water transport due to surface Ekman layer is a right angle to the *left* with respect to wind direction)\n",
    "- Alongshore wind stress of the form\n",
    "$$\\tau_y = \\tau_0 \\sin(2 \\pi t / T)$$\n",
    "where the period $T$ is 10 days.\n",
    "- In scenario 1, $\\tau_0 = +0.2$ Pa, which will lead to upwelling\n",
    "- In scenario 2, $\\tau_0 = -0.2$ Pa, which will lead to downwelling\n",
    "- Simulation lasts 5 days, mean wind stress is $ 2 |\\tau_0| / \\pi = 0.128$ Pa.\n",
    "\n",
    "\n",
    "See text for additional details and notes about an advanced turbulence closure scheme used.\n"
   ]
  },
  {
   "cell_type": "markdown",
   "id": "pediatric-debut",
   "metadata": {},
   "source": [
    "### Visualization"
   ]
  },
  {
   "cell_type": "markdown",
   "id": "unavailable-cooper",
   "metadata": {},
   "source": [
    "We will visualize the results with a similar animation as we used in Lecture 16"
   ]
  },
  {
   "cell_type": "code",
   "execution_count": 41,
   "id": "colonial-jewelry",
   "metadata": {},
   "outputs": [],
   "source": [
    "bathyfile = 'src/AOM_Ex18/h.dat'\n",
    "H = np.loadtxt(bathyfile)"
   ]
  },
  {
   "cell_type": "code",
   "execution_count": 98,
   "id": "amended-consortium",
   "metadata": {},
   "outputs": [],
   "source": [
    "def animate(filename, tau0 = 0.2):\n",
    "    ds = xr.open_dataset(filename)\n",
    "    \n",
    "    fig, (ax1, ax2, ax3) = plt.subplots(3, 1, figsize=(16, 12))\n",
    "\n",
    "    t = (ds.time - ds.time[0]).values / np.timedelta64(1, 'D')\n",
    "    \n",
    "    x = ds.x / 1000\n",
    "    z = -ds.z\n",
    "    x, z = np.meshgrid(x, z)\n",
    "\n",
    "    pmesh_ρ = ax1.pcolormesh(x, z, ds.rho[0].T, cmap='Spectral', vmin=-0, vmax=1.4, shading='gouraud')\n",
    "    \n",
    "    levels=10\n",
    "    p1 = [ax1.contour(x,z,ds.rho[0].T, levels, colors='k' ) ]\n",
    "    p2 = [ax2.contour(x,z,ds.rho[0].T, levels, colors='k' ) ]\n",
    "    p3 = [ax2.contour(x,z,ds.rho[0].T, levels, colors='k' ) ]\n",
    "    \n",
    "    \n",
    "    pmesh_u = ax2.pcolormesh(x, z, ds.u[0].T, cmap='Spectral_r', vmin = -15, vmax=15, shading='gouraud')\n",
    "    \n",
    "    if tau0 > 0:\n",
    "        vmin = 0\n",
    "        vmax = 60\n",
    "    else:\n",
    "        vmin = -60\n",
    "        vmax = 0\n",
    "    pmesh_v = ax3.pcolormesh(x, z, ds.v[0].T, cmap='Spectral_r', vmin=vmin, vmax=vmax, shading='gouraud')\n",
    "\n",
    "    fig.colorbar(pmesh_ρ, ax=ax1)\n",
    "    fig.colorbar(pmesh_u, ax=ax2)\n",
    "    fig.colorbar(pmesh_v, ax=ax3)\n",
    "     \n",
    "    ax1.text(40, -80, \"ρ' (kg/m$^3$)\", color='white', size=16)\n",
    "    ax2.text(40, -80, \"u (cm/s)\", color='white', size=16)\n",
    "    ax3.text(40, -80, \"v (cm/s)\", color='white', size=16)\n",
    "    \n",
    "    text = ax1.set_title(f'Time = {t[0]:.0f} days', size=16)\n",
    "    \n",
    "    # draw bathymetry\n",
    "    ax1.fill_between(ds.x / 1000, -H, -100, color='k')\n",
    "    ax2.fill_between(ds.x / 1000, -H, -100, color='k')\n",
    "    ax3.fill_between(ds.x / 1000, -H, -100, color='k')\n",
    "    \n",
    "    def init():\n",
    "     \n",
    "        ax1.set_xlim(0, 50)\n",
    "        ax1.set_ylim(-100, 0)\n",
    "        ax2.set_xlim(0, 50)\n",
    "        ax2.set_ylim(-100, 0)\n",
    "        ax3.set_xlim(0, 50)\n",
    "        ax3.set_ylim(-100, 0)\n",
    "        \n",
    "        ax3.set_xlabel('x (km)')\n",
    "        ax1.set_ylabel('z (m)')\n",
    "        ax2.set_ylabel('z (m)')\n",
    "        ax3.set_ylabel('z (m)')\n",
    "\n",
    "        ax1.axvline(120, color='w', linestyle='--', linewidth =2)\n",
    "        ax1.text(122, -17.5, 'Mouth', color='white', size=16)\n",
    "        ax2.axvline(120, color='w', linestyle='--', linewidth =2)\n",
    "        \n",
    "        return p1[0].collections + p2[0].collections + p2[0].collections + [pmesh_ρ, pmesh_u, pmesh_v, text]\n",
    "    \n",
    "    def update(frame):\n",
    "\n",
    "        pmesh_ρ.set_array(ds.rho[frame].values.T.flatten())\n",
    "        pmesh_u.set_array(ds.u[frame].values.T.flatten()*100)\n",
    "        pmesh_v.set_array(ds.v[frame].values.T.flatten()*100)\n",
    "        \n",
    "        for tp in p1[0].collections:\n",
    "            tp.remove()\n",
    "        for tp in p2[0].collections:\n",
    "            tp.remove()\n",
    "        for tp in p3[0].collections:\n",
    "            tp.remove()\n",
    "            \n",
    "        p1[0] = ax1.contour(x,z,ds.rho[frame].T, levels, colors='k' )\n",
    "        p2[0] = ax2.contour(x,z,ds.rho[frame].T, levels, colors='k' )\n",
    "        p3[0] = ax3.contour(x,z,ds.rho[frame].T, levels, colors='k' )\n",
    "    \n",
    "        t1 = t[frame]\n",
    "        T = 10 # days\n",
    "        tau = tau0 * np.sin(2*np.pi/T*t1)\n",
    "        \n",
    "        text.set_text(f'Time = {t1:.1f} days'+ ' '*30 + f'Wind stress = {tau:.2f} Pa')\n",
    "        \n",
    "        #return pmesh_ρ, pmesh_u, pmesh_v, text\n",
    "        return p1[0].collections + p2[0].collections + p2[0].collections + [pmesh_ρ, pmesh_u, pmesh_v, text]\n",
    "        \n",
    "        \n",
    "    anim = FuncAnimation(fig, update, blit=True,\n",
    "                         init_func=init,\n",
    "                         frames=len(ds.time),\n",
    "                        )\n",
    "    plt.close(fig)\n",
    "    \n",
    "    return anim"
   ]
  },
  {
   "cell_type": "markdown",
   "id": "atmospheric-fairy",
   "metadata": {},
   "source": [
    "### Results: Upwelling Scenario"
   ]
  },
  {
   "cell_type": "markdown",
   "id": "directed-litigation",
   "metadata": {},
   "source": [
    "For this scenario, let $\\tau_0 = + 0.2$ Pa which will lead to upwelling."
   ]
  },
  {
   "cell_type": "code",
   "execution_count": 101,
   "id": "textile-dietary",
   "metadata": {},
   "outputs": [
    {
     "data": {
      "text/html": [
       "<center><video controls autoplay src=\"Lecture17_upwelling.mp4\" width=100%/></center>"
      ],
      "text/plain": [
       "<IPython.core.display.HTML object>"
      ]
     },
     "execution_count": 101,
     "metadata": {},
     "output_type": "execute_result"
    }
   ],
   "source": [
    "filename = 'src/AOM_Ex18/output_upwelling.nc'\n",
    "anim = animate(filename)\n",
    "\n",
    "moviefile = 'Lecture17_upwelling.mp4'\n",
    "anim.save(moviefile, writer='ffmpeg', fps=4, dpi=200)\n",
    "\n",
    "HTML(f'<center><video controls autoplay src=\"{moviefile}\" width=100%/></center>')"
   ]
  },
  {
   "cell_type": "markdown",
   "id": "composed-agriculture",
   "metadata": {},
   "source": [
    "The applied wind event establishes full upwelling.\n",
    "\n",
    "- offshore Ekman drift in surface layer\n",
    "- onshort Ekman drift in bottom layer\n",
    "- Ekman currents are 10-15 cm/s\n",
    "- Bottom Ekman layer results in a geostrophic alongshore flow\n",
    "- Step-type representation of bathymetry leads to artifacts but those are not numerical unstable\n",
    "- Coastal sea level drop of 20 cm (not shown) as consequence of the offshore Ekman drift\n",
    "  - This sea-level gradient is balanced by the geostrophic flow\n",
    "\n",
    "#### Compare with theory\n"
   ]
  },
  {
   "cell_type": "code",
   "execution_count": 102,
   "id": "honey-sitting",
   "metadata": {},
   "outputs": [
    {
     "name": "stdout",
     "output_type": "stream",
     "text": [
      "v = 49 cm/s\n"
     ]
    }
   ],
   "source": [
    "f = -1e-4 #s-1\n",
    "h1 = 25 # m\n",
    "g = 9.81 # m s-2\n",
    "\n",
    "ρ1 = 1027 # kg m-3\n",
    "ρ2 = 1028 # kg m-3\n",
    "gprime = g* (ρ2 - ρ1) / ρ1\n",
    "\n",
    "# frontal speed\n",
    "v = np.sqrt(gprime*h1)\n",
    "print(f'v = {v*100:.0f} cm/s')"
   ]
  },
  {
   "cell_type": "code",
   "execution_count": 103,
   "id": "prescribed-giving",
   "metadata": {},
   "outputs": [
    {
     "name": "stdout",
     "output_type": "stream",
     "text": [
      "R = 4.9 km\n"
     ]
    }
   ],
   "source": [
    "# deformation radius\n",
    "R = v / abs(f)\n",
    "print(f'R = {R/1000:.1f} km')"
   ]
  },
  {
   "cell_type": "code",
   "execution_count": 104,
   "id": "satellite-trace",
   "metadata": {},
   "outputs": [
    {
     "name": "stdout",
     "output_type": "stream",
     "text": [
      "I = 2.1 m/s\n"
     ]
    }
   ],
   "source": [
    "# wind stress\n",
    "τ0 = 0.2 # Pa\n",
    "T = 10*24*3600 # s\n",
    "τ_avg = 2 * abs(τ0) / np.pi\n",
    "\n",
    "t_event = 5 * 24*3600\n",
    "# wind impulse\n",
    "I = τ_avg / (ρ1 * h1) * t_event\n",
    "print(f'I = {I:.1f} m/s')"
   ]
  },
  {
   "cell_type": "code",
   "execution_count": 105,
   "id": "apparent-california",
   "metadata": {},
   "outputs": [
    {
     "name": "stdout",
     "output_type": "stream",
     "text": [
      "a = 16.5 km\n"
     ]
    }
   ],
   "source": [
    "# density outcrop\n",
    "a = I/abs(f) - R\n",
    "print(f'a = {a / 1000:.1f} km')"
   ]
  },
  {
   "cell_type": "markdown",
   "id": "subject-laundry",
   "metadata": {},
   "source": [
    "> **Problem 24**: Coastal Upwelling\n",
    ">\n",
    "> - Complete 4.5.5 Additional Exercise for the Reader. Consider a stronger density stratification by increasing the density change across the pycnocline to 5 kg/m$^3$. Explore variations in the resultant upwelling dynamics and compare the model prediction with theory."
   ]
  },
  {
   "cell_type": "markdown",
   "id": "center-emergency",
   "metadata": {},
   "source": [
    "### Results: Downwelling Scenario"
   ]
  },
  {
   "cell_type": "markdown",
   "id": "requested-florence",
   "metadata": {},
   "source": [
    "For this scenario, let $\\tau_0 = - 0.2$ Pa which will lead to downwelling."
   ]
  },
  {
   "cell_type": "code",
   "execution_count": 106,
   "id": "confident-obligation",
   "metadata": {},
   "outputs": [
    {
     "data": {
      "text/html": [
       "<center><video controls autoplay src=\"Lecture17_downwelling.mp4\" width=100%/></center>"
      ],
      "text/plain": [
       "<IPython.core.display.HTML object>"
      ]
     },
     "execution_count": 106,
     "metadata": {},
     "output_type": "execute_result"
    }
   ],
   "source": [
    "filename = 'src/AOM_Ex18/output_downwelling.nc'\n",
    "anim = animate(filename, tau0=-0.2)\n",
    "\n",
    "moviefile = 'Lecture17_downwelling.mp4'\n",
    "anim.save(moviefile, writer='ffmpeg', fps=4, dpi=200)\n",
    "\n",
    "HTML(f'<center><video controls autoplay src=\"{moviefile}\" width=100%/></center>')"
   ]
  },
  {
   "cell_type": "markdown",
   "id": "inclusive-pixel",
   "metadata": {},
   "source": [
    "- Wind-stress forcing creates onshore Ekman drift in surface layer\n",
    "- Offshore Ekman flow in bottom-boundary layer\n",
    "- Onshore flow pushes surface water against coast and downware\n",
    "- Geostrophic jet of 50 cm/s speed, 10 km width establish running in direction of wind\n",
    "- Alongshore geostrophic flow triggers net offshore drift.\n",
    "- Coastal sea level rise of 20 cm (not shown) as consequence of the onshore Ekman drift\n",
    "  - This sea-level gradient is balanced by the geostrophic flow"
   ]
  }
 ],
 "metadata": {
  "kernelspec": {
   "display_name": "Python 3",
   "language": "python",
   "name": "python3"
  },
  "language_info": {
   "codemirror_mode": {
    "name": "ipython",
    "version": 3
   },
   "file_extension": ".py",
   "mimetype": "text/x-python",
   "name": "python",
   "nbconvert_exporter": "python",
   "pygments_lexer": "ipython3",
   "version": "3.8.6"
  }
 },
 "nbformat": 4,
 "nbformat_minor": 5
}
